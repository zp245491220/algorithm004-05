{
 "cells": [
  {
   "cell_type": "code",
   "execution_count": 12,
   "metadata": {},
   "outputs": [
    {
     "name": "stdout",
     "output_type": "stream",
     "text": [
      "6\n"
     ]
    }
   ],
   "source": [
    "\n",
    "\n",
    "from typing import List\n",
    "\n",
    "class LeetCode_53_510:\n",
    "    def maxSubArray(self, nums: List[int]) -> int:\n",
    "        tmp = nums[0]\n",
    "        max_ = tmp\n",
    "        n = len(nums)\n",
    "        for i in range(1,n):\n",
    "            # 当当前序列加上此时的元素的值大于tmp的值，说明最大序列和可能出现在后续序列中，记录此时的最大值\n",
    "            if tmp >0:\n",
    "                tmp += nums[i]\n",
    "                max_ = max(max_, tmp)\n",
    "            else:\n",
    "            #当tmp(当前和)小于下一个元素时，当前最长序列到此为止。以该元素为起点继续找最大子序列,\n",
    "            # 并记录此时的最大值\n",
    "                tmp = nums[i]\n",
    "                max_ = max(max_, tmp)\n",
    "                \n",
    "        return max_\n",
    "\n",
    "max_1 = LeetCode_53_510().maxSubArray([-2,1,-3,4,-1,2,1,-5,4])\n",
    "print(max_1)\n",
    "\n"
   ]
  },
  {
   "cell_type": "code",
   "execution_count": null,
   "metadata": {},
   "outputs": [],
   "source": []
  },
  {
   "cell_type": "code",
   "execution_count": null,
   "metadata": {},
   "outputs": [],
   "source": []
  }
 ],
 "metadata": {
  "kernelspec": {
   "display_name": "Python 3",
   "language": "python",
   "name": "python3"
  },
  "language_info": {
   "codemirror_mode": {
    "name": "ipython",
    "version": 3
   },
   "file_extension": ".py",
   "mimetype": "text/x-python",
   "name": "python",
   "nbconvert_exporter": "python",
   "pygments_lexer": "ipython3",
   "version": "3.7.4"
  }
 },
 "nbformat": 4,
 "nbformat_minor": 2
}
